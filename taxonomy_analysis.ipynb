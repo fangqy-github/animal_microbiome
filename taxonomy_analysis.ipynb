{
 "cells": [
  {
   "cell_type": "code",
   "execution_count": 1,
   "metadata": {},
   "outputs": [],
   "source": [
    "import pandas as pd\n",
    "import numpy as np\n",
    "from matplotlib import pyplot as plt\n",
    "import seaborn as sns"
   ]
  },
  {
   "cell_type": "markdown",
   "metadata": {},
   "source": [
    "# Data loading"
   ]
  },
  {
   "cell_type": "code",
   "execution_count": 2,
   "metadata": {},
   "outputs": [],
   "source": [
    "bac=pd.read_csv('bacteria.info.tsv',sep='\\t',index_col=0)\n",
    "metadata=pd.read_csv('..\\\\HGF\\\\species_wildbiome_info.csv',index_col=0)"
   ]
  },
  {
   "cell_type": "code",
   "execution_count": 3,
   "metadata": {},
   "outputs": [],
   "source": [
    "bac['sample'] = bac.index.str.extract(r'~_~([A-Za-z0-9_]+?)(?:_combined|_SemiBin|\\.metabat)')[0].values"
   ]
  },
  {
   "cell_type": "markdown",
   "metadata": {},
   "source": [
    "# Bacteria Composition"
   ]
  },
  {
   "cell_type": "code",
   "execution_count": 4,
   "metadata": {},
   "outputs": [],
   "source": [
    "metadata.loc[len(metadata)] ={'ZA_number':'BALB_c_1','Susceptibility (Broad)':'extremely_resistant',\n",
    "                                  'Animal Species':'inbred strain mouse','Animal class/order':'Rodentia','diet classification':'Herbivore'}\n",
    "metadata.loc[len(metadata)] ={'ZA_number':'BALB_c_2','Susceptibility (Broad)':'extremely_resistant',\n",
    "                                  'Animal Species':'inbred strain mouse','Animal class/order':'Rodentia','diet classification':'Herbivore'}\n",
    "metadata.loc[len(metadata)] ={'ZA_number':'BALB_c_3','Susceptibility (Broad)':'extremely_resistant',\n",
    "                                  'Animal Species':'inbred strain mouse','Animal class/order':'Rodentia','diet classification':'Herbivore'}\n",
    "metadata.loc[len(metadata)] ={'ZA_number':'BALB_c_4','Susceptibility (Broad)':'extremely_resistant',\n",
    "                                  'Animal Species':'inbred strain mouse','Animal class/order':'Rodentia','diet classification':'Herbivore'}\n",
    "metadata.loc[len(metadata)] ={'ZA_number':'BALB_c_5','Susceptibility (Broad)':'extremely_resistant',\n",
    "                                  'Animal Species':'inbred strain mouse','Animal class/order':'Rodentia','diet classification':'Herbivore'}"
   ]
  },
  {
   "cell_type": "code",
   "execution_count": 5,
   "metadata": {},
   "outputs": [],
   "source": [
    "combine=bac.merge(metadata,left_on='sample',right_on='ZA_number')\n",
    "combine.index = bac.index"
   ]
  },
  {
   "cell_type": "code",
   "execution_count": 6,
   "metadata": {},
   "outputs": [],
   "source": [
    "taxonomy_split = combine['taxonomy'].str.split(';', expand=True)"
   ]
  },
  {
   "cell_type": "code",
   "execution_count": 7,
   "metadata": {},
   "outputs": [],
   "source": [
    "combine['superkingdom'] = taxonomy_split[0].str.split('__').str[1]\n",
    "combine['phylum'] = taxonomy_split[1].str.split('__').str[1]\n",
    "combine['class'] = taxonomy_split[2].str.split('__').str[1]\n",
    "combine['order'] = taxonomy_split[3].str.split('__').str[1]\n",
    "combine['family'] = taxonomy_split[4].str.split('__').str[1]\n",
    "combine['genus'] = taxonomy_split[5].str.split('__').str[1]\n",
    "combine['species'] = taxonomy_split[6].str.split('__').str[1]\n"
   ]
  },
  {
   "cell_type": "code",
   "execution_count": 8,
   "metadata": {},
   "outputs": [],
   "source": [
    "combine.replace('',np.nan,inplace=True)"
   ]
  },
  {
   "cell_type": "code",
   "execution_count": 9,
   "metadata": {},
   "outputs": [
    {
     "data": {
      "text/plain": [
       "gtdb_taxonomy                        0\n",
       "taxonomy                             0\n",
       "NCBI_ID                              0\n",
       "ani95_cluster                        0\n",
       "ani975_cluster                    4679\n",
       "sample                               0\n",
       "Zoo/Lab                            336\n",
       "ZA_number                            0\n",
       "Animal Species                       0\n",
       "Susceptibility (Conservative)     3795\n",
       "Susceptibility (Broad)               0\n",
       "Animal class/order                   0\n",
       "Age (y)                            508\n",
       "Sex                                508\n",
       "Zoo ID/Name (if applicable)        471\n",
       "Diet                              6490\n",
       "Pertinent medical history/info    4814\n",
       "Place of Birth                    3752\n",
       "Other Housing Locations (IA)      4570\n",
       "Collection Date                   5526\n",
       "Receipt Date                       336\n",
       "Special note                      8471\n",
       "diet classification                  0\n",
       "superkingdom                         0\n",
       "phylum                             219\n",
       "class                              560\n",
       "order                             1440\n",
       "family                            2734\n",
       "genus                             5023\n",
       "species                           6943\n",
       "dtype: int64"
      ]
     },
     "execution_count": 9,
     "metadata": {},
     "output_type": "execute_result"
    }
   ],
   "source": [
    "combine.isnull().sum()"
   ]
  },
  {
   "cell_type": "code",
   "execution_count": 10,
   "metadata": {},
   "outputs": [
    {
     "data": {
      "text/plain": [
       "array(['2699_1', '3142_1', '451_1', ..., '1868_0', '4296_0', '3155_0'],\n",
       "      shape=(4679,), dtype=object)"
      ]
     },
     "execution_count": 10,
     "metadata": {},
     "output_type": "execute_result"
    }
   ],
   "source": [
    "combine['ani95_cluster'].unique()"
   ]
  },
  {
   "cell_type": "code",
   "execution_count": 11,
   "metadata": {},
   "outputs": [],
   "source": [
    "from ete3 import Tree\n",
    "t = Tree(\"merged.tree\")  # Replace with the actual path to your Newick file\n",
    "\n",
    "# Traverse all nodes and print their names\n",
    "nodes=[]\n",
    "for node in t.traverse():\n",
    "   nodes.append(node.name)"
   ]
  },
  {
   "cell_type": "markdown",
   "metadata": {},
   "source": [
    "# phylum"
   ]
  },
  {
   "cell_type": "code",
   "execution_count": 12,
   "metadata": {},
   "outputs": [
    {
     "data": {
      "text/plain": [
       "32"
      ]
     },
     "execution_count": 12,
     "metadata": {},
     "output_type": "execute_result"
    }
   ],
   "source": [
    "len(combine[combine.index.isin(nodes)]['phylum'].unique())\n",
    "#.to_csv('add_dataset.csv',sep='\\t')"
   ]
  },
  {
   "cell_type": "code",
   "execution_count": 13,
   "metadata": {},
   "outputs": [],
   "source": [
    "colors = [\n",
    "    '#e41a1c',  # Red\n",
    "    '#377eb8',  # Blue\n",
    "    '#4daf4a',  # Green\n",
    "    '#ff7f00',  # Orange\n",
    "    '#984ea3',  # Purple\n",
    "    '#f781bf',  # Pink\n",
    "    '#ffcc00',  # Yellow\n",
    "    '#a65628',  # Brown\n",
    "    '#999999',  # Gray\n",
    "    '#000000',  # Black\n",
    "    '#add8e6',  # Light Blue\n",
    "    '#90ee90',  # Light Green\n",
    "    '#008080',  # Teal\n",
    "    '#003366',  # Dark Blue\n",
    "    '#8b0000',  # Dark Red\n",
    "    '#c71585',  # Medium Violet Red\n",
    "    '#f4a300',  # Saffron\n",
    "    '#006400',  # Dark Green\n",
    "    '#8b4513',  # SaddleBrown\n",
    "    '#2f4f4f',  # Dark Slate Gray\n",
    "    '#d2691e',  # Chocolate\n",
    "    '#ff1493',  # Deep Pink\n",
    "    '#4169e1',  # Royal Blue\n",
    "    '#ff6347',  # Tomato\n",
    "    '#8a2be2',  # Blue Violet\n",
    "    '#deb887',  # Burlywood\n",
    "    '#20b2aa',  # Light Sea Green\n",
    "    '#f0e68c',  # Khaki\n",
    "    '#ff4500',  # Orange Red\n",
    "    '#32cd32',  # Lime Green\n",
    "    '#ffb6c1',  # Light Pink\n",
    "    '#b22222'   # Firebrick\n",
    "]"
   ]
  },
  {
   "cell_type": "code",
   "execution_count": 14,
   "metadata": {},
   "outputs": [],
   "source": [
    "phylum=combine[combine.index.isin(nodes)][['phylum']]"
   ]
  },
  {
   "cell_type": "code",
   "execution_count": 15,
   "metadata": {},
   "outputs": [],
   "source": [
    "phylum.replace(np.nan,'unclassified',inplace=True)"
   ]
  },
  {
   "cell_type": "code",
   "execution_count": 16,
   "metadata": {},
   "outputs": [],
   "source": [
    "color_dict = {phy: colors[i % len(colors)] for i, phy in enumerate(phylum['phylum'].unique())}\n",
    "\n",
    "# Add the color column based on the phylum\n",
    "phylum['Color'] = phylum['phylum'].map(color_dict)\n"
   ]
  },
  {
   "cell_type": "code",
   "execution_count": 17,
   "metadata": {},
   "outputs": [],
   "source": [
    "phylum=phylum[['Color','phylum']]"
   ]
  },
  {
   "cell_type": "code",
   "execution_count": 18,
   "metadata": {},
   "outputs": [],
   "source": [
    "# phylum.to_csv('add_dataset.csv',sep='\\t')"
   ]
  },
  {
   "cell_type": "code",
   "execution_count": 19,
   "metadata": {},
   "outputs": [],
   "source": [
    "# combine.to_csv('taxonomy_annotation.csv')"
   ]
  },
  {
   "cell_type": "markdown",
   "metadata": {},
   "source": [
    "# Host Class"
   ]
  },
  {
   "cell_type": "code",
   "execution_count": 20,
   "metadata": {},
   "outputs": [
    {
     "data": {
      "text/plain": [
       "11"
      ]
     },
     "execution_count": 20,
     "metadata": {},
     "output_type": "execute_result"
    }
   ],
   "source": [
    "len(combine[combine.index.isin(nodes)]['Animal class/order'].unique())"
   ]
  },
  {
   "cell_type": "code",
   "execution_count": 21,
   "metadata": {},
   "outputs": [],
   "source": [
    "darker_colors = [\n",
    "    '#9e1a1c',  # Darker Red\n",
    "    '#2c4f6e',  # Darker Blue\n",
    "    '#38833d',  # Darker Green\n",
    "    '#e56400',  # Darker Orange\n",
    "    '#6a2b77',  # Darker Purple\n",
    "    '#d768a1',  # Darker Pink\n",
    "    '#e6a800',  # Darker Yellow\n",
    "    '#7a4314',  # Darker Brown\n",
    "    '#6f6f6f',  # Darker Gray\n",
    "    '#333333',  # Darker Black\n",
    "    '#8db7d3',  # Darker Light Blue\n",
    "    '#6fae6f',  # Darker Light Green\n",
    "    '#006c6c',  # Darker Teal\n",
    "    '#002a4d',  # Darker Dark Blue\n",
    "    '#6f0000',  # Darker Dark Red\n",
    "    '#9c106c',  # Darker Violet Red\n",
    "    '#c17000',  # Darker Saffron\n",
    "    '#004d00',  # Darker Dark Green\n",
    "    '#633b08',  # Darker SaddleBrown\n",
    "    '#202020',  # Darker Dark Slate Gray\n",
    "    '#a15a0f',  # Darker Chocolate\n",
    "    '#d11a6e',  # Darker Deep Pink\n",
    "    '#274ea4',  # Darker Royal Blue\n",
    "    '#e04e34',  # Darker Tomato\n",
    "    '#720b8a',  # Darker Blue Violet\n",
    "    '#b17a56',  # Darker Burlywood\n",
    "    '#158e7e',  # Darker Light Sea Green\n",
    "    '#c3c232',  # Darker Khaki\n",
    "    '#e13400',  # Darker Orange Red\n",
    "    '#29a329',  # Darker Lime Green\n",
    "    '#e899ab',  # Darker Light Pink\n",
    "    '#911d1d'   # Darker Firebrick\n",
    "]\n"
   ]
  },
  {
   "cell_type": "code",
   "execution_count": 22,
   "metadata": {},
   "outputs": [],
   "source": [
    "order=combine[combine.index.isin(nodes)][['Animal class/order']]"
   ]
  },
  {
   "cell_type": "code",
   "execution_count": 23,
   "metadata": {},
   "outputs": [],
   "source": [
    "color_dict = {phy: darker_colors[i % len(darker_colors)] for i, phy in enumerate(order['Animal class/order'].unique())}\n",
    "\n",
    "# Add the color column based on the phylum\n",
    "order['Color'] = order['Animal class/order'].map(color_dict)"
   ]
  },
  {
   "cell_type": "code",
   "execution_count": 24,
   "metadata": {},
   "outputs": [],
   "source": [
    "order=order[['Color','Animal class/order']]"
   ]
  },
  {
   "cell_type": "code",
   "execution_count": 25,
   "metadata": {},
   "outputs": [],
   "source": [
    "# order.to_csv('add_dataset.csv',sep='\\t')"
   ]
  },
  {
   "cell_type": "markdown",
   "metadata": {},
   "source": [
    "# Composition"
   ]
  },
  {
   "cell_type": "code",
   "execution_count": 26,
   "metadata": {},
   "outputs": [],
   "source": [
    "drep=combine[combine.index.isin(nodes)]"
   ]
  },
  {
   "cell_type": "code",
   "execution_count": 27,
   "metadata": {},
   "outputs": [
    {
     "name": "stderr",
     "output_type": "stream",
     "text": [
      "C:\\Users\\11357\\AppData\\Local\\Temp\\ipykernel_33316\\3749258297.py:5: SettingWithCopyWarning: \n",
      "A value is trying to be set on a copy of a slice from a DataFrame.\n",
      "Try using .loc[row_indexer,col_indexer] = value instead\n",
      "\n",
      "See the caveats in the documentation: https://pandas.pydata.org/pandas-docs/stable/user_guide/indexing.html#returning-a-view-versus-a-copy\n",
      "  drep['Rank'] = drep['Susceptibility (Broad)'].map(resistant_map)\n"
     ]
    }
   ],
   "source": [
    "resistant_map={'extremely_high_susceptibility':1, 'very_high_susceptibility':2,\n",
    "       'very_low_susceptibility':6, 'low_susceptibility':5,\n",
    "       'high_susceptibility':3, 'extremely_resistant':8, \n",
    "       'intermediate_susceptibility':4, 'resistant':7}\n",
    "drep['Rank'] = drep['Susceptibility (Broad)'].map(resistant_map)"
   ]
  },
  {
   "cell_type": "code",
   "execution_count": 28,
   "metadata": {},
   "outputs": [
    {
     "name": "stderr",
     "output_type": "stream",
     "text": [
      "C:\\Users\\11357\\AppData\\Local\\Temp\\ipykernel_33316\\3414350972.py:2: SettingWithCopyWarning: \n",
      "A value is trying to be set on a copy of a slice from a DataFrame.\n",
      "Try using .loc[row_indexer,col_indexer] = value instead\n",
      "\n",
      "See the caveats in the documentation: https://pandas.pydata.org/pandas-docs/stable/user_guide/indexing.html#returning-a-view-versus-a-copy\n",
      "  drep['Susceptibility (binary)'] = drep[\"Susceptibility (Broad)\"].apply(lambda x: 1 if x in susceptible_categories else 0)\n"
     ]
    }
   ],
   "source": [
    "susceptible_categories=['extremely_high_susceptibility','very_high_susceptibility','intermediate_susceptibility','high_susceptibility']\n",
    "drep['Susceptibility (binary)'] = drep[\"Susceptibility (Broad)\"].apply(lambda x: 1 if x in susceptible_categories else 0)"
   ]
  },
  {
   "cell_type": "code",
   "execution_count": 33,
   "metadata": {},
   "outputs": [
    {
     "data": {
      "text/plain": [
       "phylum\n",
       "Bacillota                      2424\n",
       "Bacteroidota                    719\n",
       "Firmicutes                      392\n",
       "Actinomycetota                  173\n",
       "Pseudomonadota                  169\n",
       "Spirochaetota                   141\n",
       "Verrucomicrobiota                69\n",
       "Lentisphaerota                   50\n",
       "Actinobacteriota                 44\n",
       "Thermodesulfobacteriota          35\n",
       "Campylobacterota                 31\n",
       "Candidatus Melainabacteria       30\n",
       "Mycoplasmatota                   28\n",
       "Proteobacteria                   27\n",
       "Kiritimatiellota                 26\n",
       "Fusobacteriota                   23\n",
       "Candidatus Saccharibacteria      20\n",
       "Fibrobacterota                   13\n",
       "Synergistota                     12\n",
       "Planctomycetota                  11\n",
       "Elusimicrobiota                  11\n",
       "Deferribacterota                  9\n",
       "Cyanobacteriota                   7\n",
       "Desulfobacterota                  6\n",
       "Firmicutes_B                      5\n",
       "Cyanobacteria                     4\n",
       "Myxococcota                       2\n",
       "Eremiobacterota                   2\n",
       "Patescibacteria                   1\n",
       "Chloroflexota                     1\n",
       "Riflebacteria                     1\n",
       "Name: count, dtype: int64"
      ]
     },
     "execution_count": 33,
     "metadata": {},
     "output_type": "execute_result"
    }
   ],
   "source": [
    "drep['phylum'].value_counts()"
   ]
  },
  {
   "cell_type": "code",
   "execution_count": 113,
   "metadata": {},
   "outputs": [
    {
     "name": "stderr",
     "output_type": "stream",
     "text": [
      "C:\\Users\\11357\\AppData\\Local\\Temp\\ipykernel_33316\\25662553.py:11: SettingWithCopyWarning: \n",
      "A value is trying to be set on a copy of a slice from a DataFrame.\n",
      "Try using .loc[row_indexer,col_indexer] = value instead\n",
      "\n",
      "See the caveats in the documentation: https://pandas.pydata.org/pandas-docs/stable/user_guide/indexing.html#returning-a-view-versus-a-copy\n",
      "  drep['phylum_grouped'] = drep['phylum'].apply(lambda x: x if x in major_phyla else 'Others')\n"
     ]
    }
   ],
   "source": [
    "major_phyla = [\n",
    "    'Bacillota',\n",
    "    'Bacteroidota',\n",
    "    'Firmicutes',\n",
    "    'Actinomycetota',\n",
    "    'Pseudomonadota',\n",
    "    'Spirochaetota',\n",
    "    'Verrucomicrobiota',\n",
    "    'Lentisphaerota'\n",
    "]\n",
    "drep['phylum_grouped'] = drep['phylum'].apply(lambda x: x if x in major_phyla else 'Others')"
   ]
  },
  {
   "cell_type": "code",
   "execution_count": null,
   "metadata": {},
   "outputs": [],
   "source": [
    "phylum_color={'Bacillota':'#FF6347',                      \n",
    "'Bacteroidota':'#4682B4' ,                 \n",
    "'Firmicutes':'#32CD32',                      \n",
    "'Actinomycetota':'#FFD700',                  \n",
    "'Pseudomonadota':'#8A2BE2',                  \n",
    "'Spirochaetota':'#38833d',                   \n",
    "'Verrucomicrobiota':'#e56400',                \n",
    "'Lentisphaerota':'#9e1a1c','others':'grey'}"
   ]
  },
  {
   "cell_type": "code",
   "execution_count": 185,
   "metadata": {},
   "outputs": [
    {
     "data": {
      "text/plain": [
       "1192"
      ]
     },
     "execution_count": 185,
     "metadata": {},
     "output_type": "execute_result"
    }
   ],
   "source": [
    "sum(drep['is_novel'])"
   ]
  },
  {
   "cell_type": "code",
   "execution_count": 109,
   "metadata": {},
   "outputs": [
    {
     "data": {
      "text/plain": [
       "array(['Omnivore', 'Carnivore', 'Herbivore'], dtype=object)"
      ]
     },
     "execution_count": 109,
     "metadata": {},
     "output_type": "execute_result"
    }
   ],
   "source": [
    "drep['diet classification'].unique()"
   ]
  },
  {
   "cell_type": "code",
   "execution_count": 128,
   "metadata": {},
   "outputs": [
    {
     "data": {
      "image/png": "[encoded data removed]",
      "text/plain": [
       "<Figure size 1000x600 with 1 Axes>"
      ]
     },
     "metadata": {},
     "output_type": "display_data"
    }
   ],
   "source": [
    "phylum_counts_all = drep['phylum_grouped'].value_counts()\n",
    "phylum_counts_omn = drep[drep['diet classification']=='Omnivore']['phylum_grouped'].value_counts()\n",
    "phylum_counts_car = drep[drep['diet classification']=='Carnivore']['phylum_grouped'].value_counts()\n",
    "phylum_counts_herb = drep[drep['diet classification']=='Herbivore']['phylum_grouped'].value_counts()\n",
    "\n",
    "# Combine counts into a single DataFrame for plotting\n",
    "df_counts = pd.DataFrame({\n",
    "    'All Samples': phylum_counts_all,\n",
    "    'Carnivore Samples': phylum_counts_car,\n",
    "    'Herbivore Samples': phylum_counts_herb,\n",
    "    'Omnivore Samples':phylum_counts_omn\n",
    "}).fillna(0)\n",
    "\n",
    "# Normalize the counts to get proportions for stacked bars\n",
    "df_counts_normalized = df_counts.div(df_counts.sum(axis=0), axis=1)\n",
    "\n",
    "# Plot the stacked bar chart\n",
    "\n",
    "n_phyla = df_counts_normalized.shape[0]\n",
    "colors = sns.color_palette(\"Set2\", n_colors=n_phyla)\n",
    "\n",
    "ax = df_counts_normalized.transpose().plot(kind='bar', stacked=True, figsize=(10, 6),color=colors)\n",
    "\n",
    "# Add labels and title\n",
    "ax.set_xlabel('Sample type')\n",
    "ax.set_ylabel('Proportion of Phylum')\n",
    "ax.set_title('Phylum Distribution by Diet Classification')\n",
    "ax.legend(loc='upper center', bbox_to_anchor=(0.5, -0.2), ncol=3)\n",
    "ax.set_xticklabels(ax.get_xticklabels(), rotation=0)\n",
    "\n",
    "for i, patch in enumerate(ax.patches):\n",
    "    # Calculate the position for the annotation\n",
    "    height = patch.get_height()  # height of the segment (proportion)\n",
    "    x = patch.get_x() + patch.get_width() / 2  # x-position of the segment\n",
    "    y = patch.get_y() + height / 2  # y-position of the segment\n",
    "    percentage = round(height * 100, 2)  # Proportion to percentage\n",
    "    \n",
    "    # Annotate each segment with the proportion percentage\n",
    "    ax.annotate(f'{percentage}%', (x + 0.28, y), ha='left', va='center', fontsize=8, color='black')\n",
    "\n",
    "# Display the plot\n",
    "plt.tight_layout()\n",
    "plt.show()"
   ]
  },
  {
   "cell_type": "code",
   "execution_count": 199,
   "metadata": {},
   "outputs": [
    {
     "data": {
      "text/plain": [
       "45"
      ]
     },
     "execution_count": 199,
     "metadata": {},
     "output_type": "execute_result"
    }
   ],
   "source": [
    "len(drep['class'].unique())"
   ]
  },
  {
   "cell_type": "code",
   "execution_count": 204,
   "metadata": {},
   "outputs": [
    {
     "data": {
      "text/plain": [
       "gtdb_taxonomy                        0\n",
       "taxonomy                             0\n",
       "NCBI_ID                              0\n",
       "ani95_cluster                        0\n",
       "ani975_cluster                    4594\n",
       "sample                               0\n",
       "Zoo/Lab                            159\n",
       "ZA_number                            0\n",
       "Animal Species                       0\n",
       "Susceptibility (Conservative)     2163\n",
       "Susceptibility (Broad)               0\n",
       "Animal class/order                   0\n",
       "Age (y)                            284\n",
       "Sex                                284\n",
       "Zoo ID/Name (if applicable)        254\n",
       "Diet                              3379\n",
       "Pertinent medical history/info    2465\n",
       "Place of Birth                    1825\n",
       "Other Housing Locations (IA)      2357\n",
       "Collection Date                   3285\n",
       "Receipt Date                       159\n",
       "Special note                      4543\n",
       "diet classification                  0\n",
       "superkingdom                         0\n",
       "phylum                             108\n",
       "class                              295\n",
       "order                              926\n",
       "family                            1604\n",
       "genus                             2919\n",
       "species                           3919\n",
       "Rank                                 0\n",
       "Susceptibility (binary)              0\n",
       "phylum_grouped                       0\n",
       "max_value                            0\n",
       "is_novel                             0\n",
       "dtype: int64"
      ]
     },
     "execution_count": 204,
     "metadata": {},
     "output_type": "execute_result"
    }
   ],
   "source": [
    "drep.isnull().sum()"
   ]
  },
  {
   "cell_type": "code",
   "execution_count": 203,
   "metadata": {},
   "outputs": [
    {
     "data": {
      "text/plain": [
       "32"
      ]
     },
     "execution_count": 203,
     "metadata": {},
     "output_type": "execute_result"
    }
   ],
   "source": [
    "len(drep['phylum'].unique())"
   ]
  },
  {
   "cell_type": "code",
   "execution_count": 200,
   "metadata": {},
   "outputs": [
    {
     "data": {
      "text/plain": [
       "Index(['gtdb_taxonomy', 'taxonomy', 'NCBI_ID', 'ani95_cluster',\n",
       "       'ani975_cluster', 'sample', 'Zoo/Lab', 'ZA_number', 'Animal Species',\n",
       "       'Susceptibility (Conservative)', 'Susceptibility (Broad)',\n",
       "       'Animal class/order', 'Age (y)', 'Sex', 'Zoo ID/Name (if applicable)',\n",
       "       'Diet', 'Pertinent medical history/info', 'Place of Birth',\n",
       "       'Other Housing Locations (IA)', 'Collection Date', 'Receipt Date',\n",
       "       'Special note', 'diet classification', 'superkingdom', 'phylum',\n",
       "       'class', 'order', 'family', 'genus', 'species', 'Rank',\n",
       "       'Susceptibility (binary)', 'phylum_grouped', 'max_value', 'is_novel'],\n",
       "      dtype='object')"
      ]
     },
     "execution_count": 200,
     "metadata": {},
     "output_type": "execute_result"
    }
   ],
   "source": [
    "drep.columns"
   ]
  },
  {
   "cell_type": "markdown",
   "metadata": {},
   "source": [
    "# novel genomes"
   ]
  },
  {
   "cell_type": "code",
   "execution_count": 131,
   "metadata": {},
   "outputs": [],
   "source": [
    "max_ani=pd.read_csv('max_ani.csv',index_col=0)"
   ]
  },
  {
   "cell_type": "code",
   "execution_count": 138,
   "metadata": {},
   "outputs": [],
   "source": [
    "drep=drep.merge(max_ani, how='left', left_index=True, right_index=True)"
   ]
  },
  {
   "cell_type": "code",
   "execution_count": 172,
   "metadata": {},
   "outputs": [
    {
     "data": {
      "image/png": "[encoded data removed]",
      "text/plain": [
       "<Figure size 1000x1200 with 7 Axes>"
      ]
     },
     "metadata": {},
     "output_type": "display_data"
    }
   ],
   "source": [
    "import pandas as pd\n",
    "import seaborn as sns\n",
    "import matplotlib.pyplot as plt\n",
    "\n",
    "# Assume 'drep' DataFrame is preloaded with 'max_value' and 'phylum'\n",
    "drep['max_value'] = pd.to_numeric(drep['max_value'], errors='coerce')\n",
    "drep['is_novel'] = drep['max_value'] < 83\n",
    "\n",
    "# Filter phyla with more than 20 genomes\n",
    "phylum_stats = drep.groupby('phylum').agg(\n",
    "    total=('max_value', 'count'),\n",
    "    novel=('is_novel', 'sum')\n",
    ")\n",
    "phylum_stats['novel_pct'] = phylum_stats['novel'] / phylum_stats['total']\n",
    "phylum_stats = phylum_stats[phylum_stats['total'] > 20]\n",
    "\n",
    "# Top 6 phyla with most novel %\n",
    "top_phyla = phylum_stats.sort_values('novel_pct', ascending=False).head(6).index.tolist()\n",
    "plot_data = drep[drep['phylum'].isin(top_phyla)].dropna(subset=['max_value'])\n",
    "\n",
    "# Set phylum order for plotting\n",
    "plot_data['phylum'] = pd.Categorical(\n",
    "    plot_data['phylum'],\n",
    "    categories=phylum_stats.loc[top_phyla].sort_values('novel_pct', ascending=False).index,\n",
    "    ordered=True\n",
    ")\n",
    "\n",
    "# Create subplots\n",
    "fig, axes = plt.subplots(nrows=7, figsize=(10, 12), sharex=True, gridspec_kw={'height_ratios':[1.2]+[1]*6})\n",
    "\n",
    "# Clean look\n",
    "for ax in axes:\n",
    "    ax.set_facecolor('white')\n",
    "    ax.grid(False)\n",
    "    ax.spines['top'].set_visible(False)\n",
    "    ax.spines['right'].set_visible(False)\n",
    "\n",
    "# Plot \"All Genomes\"\n",
    "sns.kdeplot(data=drep, x='max_value', fill=True, ax=axes[0], color='gray', linewidth=1.5)\n",
    "axes[0].set_title(\"All Genomes\", loc='left')\n",
    "\n",
    "# Plot top 6 phyla\n",
    "palette = sns.color_palette(\"Set2\", n_colors=6)\n",
    "color_dict = dict(zip(top_phyla, palette))\n",
    "for i, phylum in enumerate(plot_data['phylum'].cat.categories):\n",
    "    ax = axes[i+1]\n",
    "    data = plot_data[plot_data['phylum'] == phylum]\n",
    "    sns.kdeplot(data=data, x='max_value', fill=True, ax=ax, color=color_dict[phylum], linewidth=1.5)\n",
    "    ax.set_title(phylum, loc='left')\n",
    "\n",
    "# Remove y-ticks and set limits\n",
    "for ax in axes:\n",
    "    ax.set_xlim(70, 100)\n",
    "    ax.set_yticks([])\n",
    "    ax.set_ylabel(\"\")\n",
    "\n",
    "axes[-1].set_xlabel(\"Maximal Average Nucleotide Identity\")\n",
    "\n",
    "# Draw global vertical lines on each subplot at 83 and 95\n",
    "# for ax in axes:\n",
    "#     ax.axvline(83, color='black', linestyle='--', linewidth=1)\n",
    "#     ax.axvline(95, color='black', linestyle='--', linewidth=1)\n",
    "\n",
    "# Add global labels for the thresholds\n",
    "def data_to_fig_x(val, ax):\n",
    "    return (val - ax.get_xlim()[0]) / (ax.get_xlim()[1] - ax.get_xlim()[0])\n",
    "\n",
    "# Get the figure coordinates for the top and bottom of the axes (from first and last subplot)\n",
    "top_ax = axes[0]\n",
    "bottom_ax = axes[-1]\n",
    "\n",
    "# Get y-axis bounds in figure coordinates\n",
    "y0 = bottom_ax.get_position().y0  # bottom of last subplot\n",
    "y1 = top_ax.get_position().y1     # top of first subplot\n",
    "\n",
    "# Convert 83 and 95 to figure-relative x-coords\n",
    "x83 = data_to_fig_x(83, axes[0])\n",
    "x95 = data_to_fig_x(95, axes[0])\n",
    "\n",
    "# Add vertical dashed lines only within subplot region (not across entire figure)\n",
    "fig.lines.extend([\n",
    "    plt.Line2D([x83, x83], [y0-0.05, y1+0.1], transform=fig.transFigure, color='black', linestyle='--', linewidth=1),\n",
    "    plt.Line2D([x95, x95], [y0-0.05, y1+0.1], transform=fig.transFigure, color='black', linestyle='--', linewidth=1)\n",
    "])\n",
    "\n",
    "\n",
    "x_min, x_max = axes[0].get_xlim()\n",
    "\n",
    "# Add the annotations with the x-values (83, 95) in data space\n",
    "fig.text(0.85, 0.99, 'Known →', fontsize=10, va='top')\n",
    "fig.text(0.42, 0.99, '← Novel', fontsize=10, va='top', ha='right')\n",
    "\n",
    "plt.tight_layout(h_pad=1.5)\n",
    "plt.show()\n"
   ]
  },
  {
   "cell_type": "code",
   "execution_count": 147,
   "metadata": {},
   "outputs": [
    {
     "data": {
      "text/html": [
       "<div>\n",
       "<style scoped>\n",
       "    .dataframe tbody tr th:only-of-type {\n",
       "        vertical-align: middle;\n",
       "    }\n",
       "\n",
       "    .dataframe tbody tr th {\n",
       "        vertical-align: top;\n",
       "    }\n",
       "\n",
       "    .dataframe thead th {\n",
       "        text-align: right;\n",
       "    }\n",
       "</style>\n",
       "<table border=\"1\" class=\"dataframe\">\n",
       "  <thead>\n",
       "    <tr style=\"text-align: right;\">\n",
       "      <th></th>\n",
       "      <th>total</th>\n",
       "      <th>novel</th>\n",
       "      <th>novel_pct</th>\n",
       "    </tr>\n",
       "    <tr>\n",
       "      <th>phylum</th>\n",
       "      <th></th>\n",
       "      <th></th>\n",
       "      <th></th>\n",
       "    </tr>\n",
       "  </thead>\n",
       "  <tbody>\n",
       "    <tr>\n",
       "      <th>Actinobacteriota</th>\n",
       "      <td>44</td>\n",
       "      <td>19</td>\n",
       "      <td>0.431818</td>\n",
       "    </tr>\n",
       "    <tr>\n",
       "      <th>Actinomycetota</th>\n",
       "      <td>173</td>\n",
       "      <td>32</td>\n",
       "      <td>0.184971</td>\n",
       "    </tr>\n",
       "    <tr>\n",
       "      <th>Bacillota</th>\n",
       "      <td>2424</td>\n",
       "      <td>620</td>\n",
       "      <td>0.255776</td>\n",
       "    </tr>\n",
       "    <tr>\n",
       "      <th>Bacteroidota</th>\n",
       "      <td>719</td>\n",
       "      <td>131</td>\n",
       "      <td>0.182197</td>\n",
       "    </tr>\n",
       "    <tr>\n",
       "      <th>Campylobacterota</th>\n",
       "      <td>31</td>\n",
       "      <td>5</td>\n",
       "      <td>0.161290</td>\n",
       "    </tr>\n",
       "    <tr>\n",
       "      <th>Candidatus Melainabacteria</th>\n",
       "      <td>30</td>\n",
       "      <td>5</td>\n",
       "      <td>0.166667</td>\n",
       "    </tr>\n",
       "    <tr>\n",
       "      <th>Firmicutes</th>\n",
       "      <td>392</td>\n",
       "      <td>148</td>\n",
       "      <td>0.377551</td>\n",
       "    </tr>\n",
       "    <tr>\n",
       "      <th>Fusobacteriota</th>\n",
       "      <td>23</td>\n",
       "      <td>4</td>\n",
       "      <td>0.173913</td>\n",
       "    </tr>\n",
       "    <tr>\n",
       "      <th>Kiritimatiellota</th>\n",
       "      <td>26</td>\n",
       "      <td>12</td>\n",
       "      <td>0.461538</td>\n",
       "    </tr>\n",
       "    <tr>\n",
       "      <th>Lentisphaerota</th>\n",
       "      <td>50</td>\n",
       "      <td>10</td>\n",
       "      <td>0.200000</td>\n",
       "    </tr>\n",
       "    <tr>\n",
       "      <th>Mycoplasmatota</th>\n",
       "      <td>28</td>\n",
       "      <td>11</td>\n",
       "      <td>0.392857</td>\n",
       "    </tr>\n",
       "    <tr>\n",
       "      <th>Proteobacteria</th>\n",
       "      <td>27</td>\n",
       "      <td>6</td>\n",
       "      <td>0.222222</td>\n",
       "    </tr>\n",
       "    <tr>\n",
       "      <th>Pseudomonadota</th>\n",
       "      <td>169</td>\n",
       "      <td>31</td>\n",
       "      <td>0.183432</td>\n",
       "    </tr>\n",
       "    <tr>\n",
       "      <th>Spirochaetota</th>\n",
       "      <td>141</td>\n",
       "      <td>45</td>\n",
       "      <td>0.319149</td>\n",
       "    </tr>\n",
       "    <tr>\n",
       "      <th>Thermodesulfobacteriota</th>\n",
       "      <td>35</td>\n",
       "      <td>9</td>\n",
       "      <td>0.257143</td>\n",
       "    </tr>\n",
       "    <tr>\n",
       "      <th>Verrucomicrobiota</th>\n",
       "      <td>69</td>\n",
       "      <td>31</td>\n",
       "      <td>0.449275</td>\n",
       "    </tr>\n",
       "  </tbody>\n",
       "</table>\n",
       "</div>"
      ],
      "text/plain": [
       "                            total  novel  novel_pct\n",
       "phylum                                             \n",
       "Actinobacteriota               44     19   0.431818\n",
       "Actinomycetota                173     32   0.184971\n",
       "Bacillota                    2424    620   0.255776\n",
       "Bacteroidota                  719    131   0.182197\n",
       "Campylobacterota               31      5   0.161290\n",
       "Candidatus Melainabacteria     30      5   0.166667\n",
       "Firmicutes                    392    148   0.377551\n",
       "Fusobacteriota                 23      4   0.173913\n",
       "Kiritimatiellota               26     12   0.461538\n",
       "Lentisphaerota                 50     10   0.200000\n",
       "Mycoplasmatota                 28     11   0.392857\n",
       "Proteobacteria                 27      6   0.222222\n",
       "Pseudomonadota                169     31   0.183432\n",
       "Spirochaetota                 141     45   0.319149\n",
       "Thermodesulfobacteriota        35      9   0.257143\n",
       "Verrucomicrobiota              69     31   0.449275"
      ]
     },
     "execution_count": 147,
     "metadata": {},
     "output_type": "execute_result"
    }
   ],
   "source": [
    "phylum_stats"
   ]
  },
  {
   "cell_type": "code",
   "execution_count": 176,
   "metadata": {},
   "outputs": [
    {
     "data": {
      "text/plain": [
       "1192"
      ]
     },
     "execution_count": 176,
     "metadata": {},
     "output_type": "execute_result"
    }
   ],
   "source": [
    "len(drep[drep['max_value']<=83])"
   ]
  },
  {
   "cell_type": "code",
   "execution_count": 177,
   "metadata": {},
   "outputs": [
    {
     "data": {
      "text/plain": [
       "1547"
      ]
     },
     "execution_count": 177,
     "metadata": {},
     "output_type": "execute_result"
    }
   ],
   "source": [
    "len(drep[drep['max_value']>=95])"
   ]
  },
  {
   "cell_type": "code",
   "execution_count": 178,
   "metadata": {},
   "outputs": [
    {
     "data": {
      "text/plain": [
       "1855"
      ]
     },
     "execution_count": 178,
     "metadata": {},
     "output_type": "execute_result"
    }
   ],
   "source": [
    "len(drep[(drep['max_value']>83) &(drep['max_value']<95)])"
   ]
  },
  {
   "cell_type": "code",
   "execution_count": null,
   "metadata": {},
   "outputs": [],
   "source": [
    "# drep.to_csv('taxonomy_feature.csv')"
   ]
  },
  {
   "cell_type": "code",
   "execution_count": 187,
   "metadata": {},
   "outputs": [
    {
     "data": {
      "text/plain": [
       "Name\n",
       "wild_biome_1~_~ZA_102_combined.metabat.101        Primates\n",
       "wild_biome_1~_~ZA_102_combined.metabat.106        Primates\n",
       "wild_biome_1~_~ZA_102_combined.metabat.126        Primates\n",
       "wild_biome_1~_~ZA_102_combined.metabat.164_sub    Primates\n",
       "wild_biome_1~_~ZA_102_combined.metabat.173        Primates\n",
       "                                                    ...   \n",
       "wild_biome_5~_~ZA_84_SemiBin_433                  Primates\n",
       "wild_biome_5~_~ZA_84_SemiBin_45                   Primates\n",
       "wild_biome_5~_~ZA_98.metabat.81_sub               Primates\n",
       "wild_biome_5~_~ZA_98_SemiBin_110                  Primates\n",
       "wild_biome_5~_~ZA_98_SemiBin_85                   Primates\n",
       "Name: Animal class/order, Length: 4594, dtype: object"
      ]
     },
     "execution_count": 187,
     "metadata": {},
     "output_type": "execute_result"
    }
   ],
   "source": [
    "drep['Animal class/order']"
   ]
  },
  {
   "cell_type": "code",
   "execution_count": 195,
   "metadata": {},
   "outputs": [
    {
     "name": "stderr",
     "output_type": "stream",
     "text": [
      "C:\\Users\\11357\\AppData\\Local\\Temp\\ipykernel_33316\\2645792909.py:2: FutureWarning: \n",
      "\n",
      "Passing `palette` without assigning `hue` is deprecated and will be removed in v0.14.0. Assign the `y` variable to `hue` and set `legend=False` for the same effect.\n",
      "\n",
      "  sns.boxplot(x='max_value', y='Animal class/order', data=drep, palette='Set2')\n"
     ]
    },
    {
     "data": {
      "image/png": "[encoded data removed]",
      "text/plain": [
       "<Figure size 1000x600 with 1 Axes>"
      ]
     },
     "metadata": {},
     "output_type": "display_data"
    }
   ],
   "source": [
    "plt.figure(figsize=(10, 6))\n",
    "sns.boxplot(x='max_value', y='Animal class/order', data=drep, palette='Set2')\n",
    "plt.axvline(95, ls='--', color='gray')  # Known threshold\n",
    "plt.axvline(83, ls='--', color='gray')  # Novel threshold\n",
    "plt.xlabel(\"Maximal Average Nucleotide Identity\")\n",
    "plt.ylabel(\"Animal Class\")\n",
    "plt.tight_layout()\n",
    "plt.show()"
   ]
  },
  {
   "cell_type": "markdown",
   "metadata": {},
   "source": [
    "# Clean frequency file"
   ]
  },
  {
   "cell_type": "code",
   "execution_count": 93,
   "metadata": {},
   "outputs": [],
   "source": [
    "aduance=pd.read_csv('all-to-all-profile.tsv',sep='\\t')"
   ]
  },
  {
   "cell_type": "code",
   "execution_count": 94,
   "metadata": {},
   "outputs": [
    {
     "data": {
      "text/html": [
       "<div>\n",
       "<style scoped>\n",
       "    .dataframe tbody tr th:only-of-type {\n",
       "        vertical-align: middle;\n",
       "    }\n",
       "\n",
       "    .dataframe tbody tr th {\n",
       "        vertical-align: top;\n",
       "    }\n",
       "\n",
       "    .dataframe thead th {\n",
       "        text-align: right;\n",
       "    }\n",
       "</style>\n",
       "<table border=\"1\" class=\"dataframe\">\n",
       "  <thead>\n",
       "    <tr style=\"text-align: right;\">\n",
       "      <th></th>\n",
       "      <th>Sample_file</th>\n",
       "      <th>Genome_file</th>\n",
       "      <th>Taxonomic_abundance</th>\n",
       "      <th>Sequence_abundance</th>\n",
       "      <th>Adjusted_ANI</th>\n",
       "      <th>Eff_cov</th>\n",
       "      <th>ANI_5-95_percentile</th>\n",
       "      <th>Eff_lambda</th>\n",
       "      <th>Lambda_5-95_percentile</th>\n",
       "      <th>Median_cov</th>\n",
       "      <th>Mean_cov_geq1</th>\n",
       "      <th>Containment_ind</th>\n",
       "      <th>Naive_ANI</th>\n",
       "      <th>kmers_reassigned</th>\n",
       "      <th>Contig_name</th>\n",
       "    </tr>\n",
       "  </thead>\n",
       "  <tbody>\n",
       "    <tr>\n",
       "      <th>0</th>\n",
       "      <td>/manitou/pmg/projects/korem_lab/Data/mLevy_202...</td>\n",
       "      <td>/burg/pmg/users/qf2173/mmmbp_animal/mmmbp_wild...</td>\n",
       "      <td>14.6405</td>\n",
       "      <td>17.0677</td>\n",
       "      <td>98.51</td>\n",
       "      <td>653.000</td>\n",
       "      <td>NA-NA</td>\n",
       "      <td>HIGH</td>\n",
       "      <td>NA-NA</td>\n",
       "      <td>653</td>\n",
       "      <td>635.531</td>\n",
       "      <td>7402/11782</td>\n",
       "      <td>98.51</td>\n",
       "      <td>9</td>\n",
       "      <td>wild_biome_2~_~ZA_161_k141_695031</td>\n",
       "    </tr>\n",
       "    <tr>\n",
       "      <th>6221</th>\n",
       "      <td>/manitou/pmg/projects/korem_lab/Data/mLevy_202...</td>\n",
       "      <td>/burg/pmg/users/qf2173/mmmbp_animal/mmmbp_wild...</td>\n",
       "      <td>1.6174</td>\n",
       "      <td>1.9026</td>\n",
       "      <td>100.00</td>\n",
       "      <td>27.000</td>\n",
       "      <td>NA-NA</td>\n",
       "      <td>HIGH</td>\n",
       "      <td>NA-NA</td>\n",
       "      <td>27</td>\n",
       "      <td>26.863</td>\n",
       "      <td>11781/11782</td>\n",
       "      <td>100.00</td>\n",
       "      <td>0</td>\n",
       "      <td>wild_biome_2~_~ZA_161_k141_695031</td>\n",
       "    </tr>\n",
       "    <tr>\n",
       "      <th>9248</th>\n",
       "      <td>/manitou/pmg/projects/korem_lab/Data/mLevy_202...</td>\n",
       "      <td>/burg/pmg/users/qf2173/mmmbp_animal/mmmbp_wild...</td>\n",
       "      <td>0.4753</td>\n",
       "      <td>0.6475</td>\n",
       "      <td>98.67</td>\n",
       "      <td>7.652</td>\n",
       "      <td>NA-NA</td>\n",
       "      <td>HIGH</td>\n",
       "      <td>NA-NA</td>\n",
       "      <td>8</td>\n",
       "      <td>7.652</td>\n",
       "      <td>7791/11782</td>\n",
       "      <td>98.67</td>\n",
       "      <td>40</td>\n",
       "      <td>wild_biome_2~_~ZA_161_k141_695031</td>\n",
       "    </tr>\n",
       "    <tr>\n",
       "      <th>17928</th>\n",
       "      <td>/manitou/pmg/projects/korem_lab/Data/mLevy_202...</td>\n",
       "      <td>/burg/pmg/users/qf2173/mmmbp_animal/mmmbp_wild...</td>\n",
       "      <td>4.3458</td>\n",
       "      <td>4.8168</td>\n",
       "      <td>98.55</td>\n",
       "      <td>39.000</td>\n",
       "      <td>NA-NA</td>\n",
       "      <td>HIGH</td>\n",
       "      <td>NA-NA</td>\n",
       "      <td>39</td>\n",
       "      <td>38.368</td>\n",
       "      <td>7493/11782</td>\n",
       "      <td>98.55</td>\n",
       "      <td>18</td>\n",
       "      <td>wild_biome_2~_~ZA_161_k141_695031</td>\n",
       "    </tr>\n",
       "    <tr>\n",
       "      <th>19178</th>\n",
       "      <td>/manitou/pmg/projects/korem_lab/Data/mLevy_202...</td>\n",
       "      <td>/burg/pmg/users/qf2173/mmmbp_animal/mmmbp_wild...</td>\n",
       "      <td>0.1885</td>\n",
       "      <td>0.2497</td>\n",
       "      <td>98.52</td>\n",
       "      <td>4.009</td>\n",
       "      <td>NA-NA</td>\n",
       "      <td>HIGH</td>\n",
       "      <td>NA-NA</td>\n",
       "      <td>4</td>\n",
       "      <td>4.009</td>\n",
       "      <td>7418/11782</td>\n",
       "      <td>98.52</td>\n",
       "      <td>36</td>\n",
       "      <td>wild_biome_2~_~ZA_161_k141_695031</td>\n",
       "    </tr>\n",
       "    <tr>\n",
       "      <th>22945</th>\n",
       "      <td>/manitou/pmg/projects/korem_lab/Data/mLevy_202...</td>\n",
       "      <td>/burg/pmg/users/qf2173/mmmbp_animal/mmmbp_wild...</td>\n",
       "      <td>0.1546</td>\n",
       "      <td>0.1821</td>\n",
       "      <td>98.52</td>\n",
       "      <td>1.144</td>\n",
       "      <td>98.42-98.67</td>\n",
       "      <td>1.144</td>\n",
       "      <td>1.06-1.21</td>\n",
       "      <td>1</td>\n",
       "      <td>1.700</td>\n",
       "      <td>5060/11782</td>\n",
       "      <td>97.31</td>\n",
       "      <td>19</td>\n",
       "      <td>wild_biome_2~_~ZA_161_k141_695031</td>\n",
       "    </tr>\n",
       "  </tbody>\n",
       "</table>\n",
       "</div>"
      ],
      "text/plain": [
       "                                             Sample_file  \\\n",
       "0      /manitou/pmg/projects/korem_lab/Data/mLevy_202...   \n",
       "6221   /manitou/pmg/projects/korem_lab/Data/mLevy_202...   \n",
       "9248   /manitou/pmg/projects/korem_lab/Data/mLevy_202...   \n",
       "17928  /manitou/pmg/projects/korem_lab/Data/mLevy_202...   \n",
       "19178  /manitou/pmg/projects/korem_lab/Data/mLevy_202...   \n",
       "22945  /manitou/pmg/projects/korem_lab/Data/mLevy_202...   \n",
       "\n",
       "                                             Genome_file  Taxonomic_abundance  \\\n",
       "0      /burg/pmg/users/qf2173/mmmbp_animal/mmmbp_wild...              14.6405   \n",
       "6221   /burg/pmg/users/qf2173/mmmbp_animal/mmmbp_wild...               1.6174   \n",
       "9248   /burg/pmg/users/qf2173/mmmbp_animal/mmmbp_wild...               0.4753   \n",
       "17928  /burg/pmg/users/qf2173/mmmbp_animal/mmmbp_wild...               4.3458   \n",
       "19178  /burg/pmg/users/qf2173/mmmbp_animal/mmmbp_wild...               0.1885   \n",
       "22945  /burg/pmg/users/qf2173/mmmbp_animal/mmmbp_wild...               0.1546   \n",
       "\n",
       "       Sequence_abundance  Adjusted_ANI  Eff_cov ANI_5-95_percentile  \\\n",
       "0                 17.0677         98.51  653.000               NA-NA   \n",
       "6221               1.9026        100.00   27.000               NA-NA   \n",
       "9248               0.6475         98.67    7.652               NA-NA   \n",
       "17928              4.8168         98.55   39.000               NA-NA   \n",
       "19178              0.2497         98.52    4.009               NA-NA   \n",
       "22945              0.1821         98.52    1.144         98.42-98.67   \n",
       "\n",
       "      Eff_lambda Lambda_5-95_percentile  Median_cov  Mean_cov_geq1  \\\n",
       "0           HIGH                  NA-NA         653        635.531   \n",
       "6221        HIGH                  NA-NA          27         26.863   \n",
       "9248        HIGH                  NA-NA           8          7.652   \n",
       "17928       HIGH                  NA-NA          39         38.368   \n",
       "19178       HIGH                  NA-NA           4          4.009   \n",
       "22945      1.144              1.06-1.21           1          1.700   \n",
       "\n",
       "      Containment_ind  Naive_ANI  kmers_reassigned  \\\n",
       "0          7402/11782      98.51                 9   \n",
       "6221      11781/11782     100.00                 0   \n",
       "9248       7791/11782      98.67                40   \n",
       "17928      7493/11782      98.55                18   \n",
       "19178      7418/11782      98.52                36   \n",
       "22945      5060/11782      97.31                19   \n",
       "\n",
       "                             Contig_name  \n",
       "0      wild_biome_2~_~ZA_161_k141_695031  \n",
       "6221   wild_biome_2~_~ZA_161_k141_695031  \n",
       "9248   wild_biome_2~_~ZA_161_k141_695031  \n",
       "17928  wild_biome_2~_~ZA_161_k141_695031  \n",
       "19178  wild_biome_2~_~ZA_161_k141_695031  \n",
       "22945  wild_biome_2~_~ZA_161_k141_695031  "
      ]
     },
     "execution_count": 94,
     "metadata": {},
     "output_type": "execute_result"
    }
   ],
   "source": [
    "aduance[aduance['Genome_file']=='/burg/pmg/users/qf2173/mmmbp_animal/mmmbp_wild_biome/drep_res/95ANI/dereplicated_genomes/wild_biome_2~_~ZA_161_SemiBin_921.fa.gz']"
   ]
  },
  {
   "cell_type": "code",
   "execution_count": 95,
   "metadata": {},
   "outputs": [],
   "source": [
    "import re\n",
    "aduance['Sample_file'] = aduance[\"Sample_file\"].apply(lambda x: x.split(\"/\")[-1].replace(\".fastq.gz\", \"\"))\n",
    "aduance['Genome_file'] = aduance[\"Genome_file\"].apply(lambda x: x.split(\"/\")[-1].replace(\".fa.gz\", \"\"))\n",
    "def clean_sample_name(full_name):\n",
    "    try:\n",
    "        part = full_name.split(\"~_~\")[1]  # get part after ~_~\n",
    "        return \"_\".join(part.split(\"_\")[:2]) if \"BALB\" not in part else \"_\".join(part.split(\"_\")[:3])\n",
    "    except IndexError:\n",
    "        return full_name\n",
    "\n",
    "# Apply to Sample column\n",
    "aduance[\"Sample_file\"] = aduance[\"Sample_file\"].apply(lambda x: clean_sample_name(x.split(\"/\")[-1]))"
   ]
  },
  {
   "cell_type": "code",
   "execution_count": 98,
   "metadata": {},
   "outputs": [],
   "source": [
    "aduance = aduance[~aduance['Sample_file'].str.contains('Pos_DNA', na=False)]"
   ]
  },
  {
   "cell_type": "code",
   "execution_count": 100,
   "metadata": {},
   "outputs": [
    {
     "data": {
      "text/plain": [
       "Sample_file\n",
       "ZA_76     417\n",
       "ZA_6      386\n",
       "ZA_48     374\n",
       "ZA_7      358\n",
       "ZA_8      355\n",
       "         ... \n",
       "ZA_64       6\n",
       "ZA_111      6\n",
       "ZA_67       6\n",
       "ZA_68       5\n",
       "ZA_128      3\n",
       "Name: count, Length: 158, dtype: int64"
      ]
     },
     "execution_count": 100,
     "metadata": {},
     "output_type": "execute_result"
    }
   ],
   "source": [
    "aduance['Sample_file'].value_counts()"
   ]
  },
  {
   "cell_type": "code",
   "execution_count": 102,
   "metadata": {},
   "outputs": [
    {
     "data": {
      "text/plain": [
       "Genome_file\n",
       "wild_biome_2~_~ZA_91_combined_SemiBin_453         71\n",
       "wild_biome_1~_~ZA_92_SemiBin_19                   66\n",
       "wild_biome_4~_~ZA_21_combined_SemiBin_21_sub      61\n",
       "wild_biome_3~_~ZA_15_SemiBin_48                   61\n",
       "wild_biome_1~_~ZA_57_combined.metabat.56          60\n",
       "                                                  ..\n",
       "wild_biome_5~_~ZA_80_SemiBin_652                   1\n",
       "wild_biome_1~_~ZA_102_combined_SemiBin_578         1\n",
       "wild_biome_1~_~ZA_102_combined_SemiBin_339_sub     1\n",
       "wild_biome_1~_~ZA_102_combined_SemiBin_281         1\n",
       "wild_biome_1~_~ZA_102_combined.metabat.173         1\n",
       "Name: count, Length: 4679, dtype: int64"
      ]
     },
     "execution_count": 102,
     "metadata": {},
     "output_type": "execute_result"
    }
   ],
   "source": [
    "aduance['Genome_file'].value_counts()"
   ]
  },
  {
   "cell_type": "code",
   "execution_count": null,
   "metadata": {},
   "outputs": [],
   "source": [
    "# aduance[['Sample_file','Genome_file','Taxonomic_abundance','Sequence_abundance']].set_index('Sample_file').to_csv('clean_frequency.csv')"
   ]
  }
 ],
 "metadata": {
  "kernelspec": {
   "display_name": "Python 3",
   "language": "python",
   "name": "python3"
  },
  "language_info": {
   "codemirror_mode": {
    "name": "ipython",
    "version": 3
   },
   "file_extension": ".py",
   "mimetype": "text/x-python",
   "name": "python",
   "nbconvert_exporter": "python",
   "pygments_lexer": "ipython3",
   "version": "3.12.8"
  }
 },
 "nbformat": 4,
 "nbformat_minor": 2
}
